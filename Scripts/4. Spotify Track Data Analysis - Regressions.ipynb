{
 "cells": [
  {
   "cell_type": "markdown",
   "id": "23beee16",
   "metadata": {},
   "source": [
    "# Import Data"
   ]
  },
  {
   "cell_type": "code",
   "execution_count": 31,
   "id": "b92d00c8",
   "metadata": {
    "ExecuteTime": {
     "end_time": "2021-12-16T23:23:21.065510Z",
     "start_time": "2021-12-16T23:23:20.997505Z"
    }
   },
   "outputs": [],
   "source": [
    "import pandas as pd\n",
    "import numpy as np\n",
    "import os\n",
    "import seaborn as sns\n",
    "import matplotlib\n",
    "import matplotlib.pyplot as plt\n",
    "import sklearn\n",
    "from sklearn.model_selection import train_test_split \n",
    "from sklearn.linear_model import LinearRegression\n",
    "from sklearn.metrics import mean_squared_error, r2_score"
   ]
  },
  {
   "cell_type": "code",
   "execution_count": 32,
   "id": "3d834800",
   "metadata": {
    "ExecuteTime": {
     "end_time": "2021-12-16T23:23:21.128515Z",
     "start_time": "2021-12-16T23:23:21.069513Z"
    }
   },
   "outputs": [],
   "source": [
    "# This option ensures that the graphs you create are displayed within the notebook without the need to \"call\" them specifically.\n",
    "%matplotlib inline"
   ]
  },
  {
   "cell_type": "code",
   "execution_count": 33,
   "id": "78693985",
   "metadata": {
    "ExecuteTime": {
     "end_time": "2021-12-16T23:23:21.144517Z",
     "start_time": "2021-12-16T23:23:21.133518Z"
    }
   },
   "outputs": [],
   "source": [
    "# Assign path string to variable using raw string r'\n",
    "path = r'D:\\Docs\\Career Foundry\\II. Data Immersion\\6. Advanced Analytics & Dashboard Design\\Spotify Database - Alina Racu'"
   ]
  },
  {
   "cell_type": "code",
   "execution_count": 34,
   "id": "34759586",
   "metadata": {
    "ExecuteTime": {
     "end_time": "2021-12-16T23:23:23.289179Z",
     "start_time": "2021-12-16T23:23:21.147516Z"
    }
   },
   "outputs": [],
   "source": [
    "# Import csv file\n",
    "df = pd.read_csv(os.path.join(path, \"02 Data\", \"Prepared Data\", \"df_tracks_features.csv\" ))"
   ]
  },
  {
   "cell_type": "markdown",
   "id": "0e5866e1",
   "metadata": {},
   "source": [
    "# Consistency Checks"
   ]
  },
  {
   "cell_type": "code",
   "execution_count": 35,
   "id": "0f67a99b",
   "metadata": {
    "ExecuteTime": {
     "end_time": "2021-12-16T23:23:23.305259Z",
     "start_time": "2021-12-16T23:23:23.289179Z"
    }
   },
   "outputs": [],
   "source": [
    "# Show all columns\n",
    "pd.options.display.max_columns = None"
   ]
  },
  {
   "cell_type": "code",
   "execution_count": 36,
   "id": "f2f35f56",
   "metadata": {
    "ExecuteTime": {
     "end_time": "2021-12-16T23:23:23.369261Z",
     "start_time": "2021-12-16T23:23:23.308259Z"
    }
   },
   "outputs": [
    {
     "data": {
      "text/html": [
       "<div>\n",
       "<style scoped>\n",
       "    .dataframe tbody tr th:only-of-type {\n",
       "        vertical-align: middle;\n",
       "    }\n",
       "\n",
       "    .dataframe tbody tr th {\n",
       "        vertical-align: top;\n",
       "    }\n",
       "\n",
       "    .dataframe thead th {\n",
       "        text-align: right;\n",
       "    }\n",
       "</style>\n",
       "<table border=\"1\" class=\"dataframe\">\n",
       "  <thead>\n",
       "    <tr style=\"text-align: right;\">\n",
       "      <th></th>\n",
       "      <th>Unnamed: 0</th>\n",
       "      <th>position</th>\n",
       "      <th>track_name</th>\n",
       "      <th>artist</th>\n",
       "      <th>streams</th>\n",
       "      <th>date</th>\n",
       "      <th>country</th>\n",
       "      <th>album</th>\n",
       "      <th>explicit</th>\n",
       "      <th>danceability</th>\n",
       "      <th>energy</th>\n",
       "      <th>loudness</th>\n",
       "      <th>mode</th>\n",
       "      <th>speechiness</th>\n",
       "      <th>acousticness</th>\n",
       "      <th>instrumentalness</th>\n",
       "      <th>liveness</th>\n",
       "      <th>valence</th>\n",
       "      <th>tempo</th>\n",
       "      <th>duration_ms</th>\n",
       "      <th>release_year</th>\n",
       "      <th>release_date</th>\n",
       "      <th>_merge</th>\n",
       "    </tr>\n",
       "  </thead>\n",
       "  <tbody>\n",
       "    <tr>\n",
       "      <th>0</th>\n",
       "      <td>0</td>\n",
       "      <td>12</td>\n",
       "      <td>Dile Que Tu Me Quieres</td>\n",
       "      <td>Ozuna</td>\n",
       "      <td>8982</td>\n",
       "      <td>2017-01-01</td>\n",
       "      <td>Ecuador</td>\n",
       "      <td>Odisea</td>\n",
       "      <td>False</td>\n",
       "      <td>0.773</td>\n",
       "      <td>0.757</td>\n",
       "      <td>-4.959</td>\n",
       "      <td>1</td>\n",
       "      <td>0.0526</td>\n",
       "      <td>0.0864</td>\n",
       "      <td>0.000004</td>\n",
       "      <td>0.0727</td>\n",
       "      <td>0.858</td>\n",
       "      <td>88.006</td>\n",
       "      <td>226520</td>\n",
       "      <td>2017</td>\n",
       "      <td>2017-08-25</td>\n",
       "      <td>both</td>\n",
       "    </tr>\n",
       "    <tr>\n",
       "      <th>1</th>\n",
       "      <td>1</td>\n",
       "      <td>12</td>\n",
       "      <td>Dile Que Tu Me Quieres</td>\n",
       "      <td>Ozuna</td>\n",
       "      <td>8048</td>\n",
       "      <td>2017-01-02</td>\n",
       "      <td>Ecuador</td>\n",
       "      <td>Odisea</td>\n",
       "      <td>False</td>\n",
       "      <td>0.773</td>\n",
       "      <td>0.757</td>\n",
       "      <td>-4.959</td>\n",
       "      <td>1</td>\n",
       "      <td>0.0526</td>\n",
       "      <td>0.0864</td>\n",
       "      <td>0.000004</td>\n",
       "      <td>0.0727</td>\n",
       "      <td>0.858</td>\n",
       "      <td>88.006</td>\n",
       "      <td>226520</td>\n",
       "      <td>2017</td>\n",
       "      <td>2017-08-25</td>\n",
       "      <td>both</td>\n",
       "    </tr>\n",
       "    <tr>\n",
       "      <th>2</th>\n",
       "      <td>2</td>\n",
       "      <td>12</td>\n",
       "      <td>Dile Que Tu Me Quieres</td>\n",
       "      <td>Ozuna</td>\n",
       "      <td>8425</td>\n",
       "      <td>2017-01-03</td>\n",
       "      <td>Ecuador</td>\n",
       "      <td>Odisea</td>\n",
       "      <td>False</td>\n",
       "      <td>0.773</td>\n",
       "      <td>0.757</td>\n",
       "      <td>-4.959</td>\n",
       "      <td>1</td>\n",
       "      <td>0.0526</td>\n",
       "      <td>0.0864</td>\n",
       "      <td>0.000004</td>\n",
       "      <td>0.0727</td>\n",
       "      <td>0.858</td>\n",
       "      <td>88.006</td>\n",
       "      <td>226520</td>\n",
       "      <td>2017</td>\n",
       "      <td>2017-08-25</td>\n",
       "      <td>both</td>\n",
       "    </tr>\n",
       "    <tr>\n",
       "      <th>3</th>\n",
       "      <td>3</td>\n",
       "      <td>12</td>\n",
       "      <td>Dile Que Tu Me Quieres</td>\n",
       "      <td>Ozuna</td>\n",
       "      <td>8808</td>\n",
       "      <td>2017-01-04</td>\n",
       "      <td>Ecuador</td>\n",
       "      <td>Odisea</td>\n",
       "      <td>False</td>\n",
       "      <td>0.773</td>\n",
       "      <td>0.757</td>\n",
       "      <td>-4.959</td>\n",
       "      <td>1</td>\n",
       "      <td>0.0526</td>\n",
       "      <td>0.0864</td>\n",
       "      <td>0.000004</td>\n",
       "      <td>0.0727</td>\n",
       "      <td>0.858</td>\n",
       "      <td>88.006</td>\n",
       "      <td>226520</td>\n",
       "      <td>2017</td>\n",
       "      <td>2017-08-25</td>\n",
       "      <td>both</td>\n",
       "    </tr>\n",
       "    <tr>\n",
       "      <th>4</th>\n",
       "      <td>4</td>\n",
       "      <td>11</td>\n",
       "      <td>Dile Que Tu Me Quieres</td>\n",
       "      <td>Ozuna</td>\n",
       "      <td>8307</td>\n",
       "      <td>2017-01-05</td>\n",
       "      <td>Ecuador</td>\n",
       "      <td>Odisea</td>\n",
       "      <td>False</td>\n",
       "      <td>0.773</td>\n",
       "      <td>0.757</td>\n",
       "      <td>-4.959</td>\n",
       "      <td>1</td>\n",
       "      <td>0.0526</td>\n",
       "      <td>0.0864</td>\n",
       "      <td>0.000004</td>\n",
       "      <td>0.0727</td>\n",
       "      <td>0.858</td>\n",
       "      <td>88.006</td>\n",
       "      <td>226520</td>\n",
       "      <td>2017</td>\n",
       "      <td>2017-08-25</td>\n",
       "      <td>both</td>\n",
       "    </tr>\n",
       "  </tbody>\n",
       "</table>\n",
       "</div>"
      ],
      "text/plain": [
       "   Unnamed: 0  position              track_name artist  streams        date  \\\n",
       "0           0        12  Dile Que Tu Me Quieres  Ozuna     8982  2017-01-01   \n",
       "1           1        12  Dile Que Tu Me Quieres  Ozuna     8048  2017-01-02   \n",
       "2           2        12  Dile Que Tu Me Quieres  Ozuna     8425  2017-01-03   \n",
       "3           3        12  Dile Que Tu Me Quieres  Ozuna     8808  2017-01-04   \n",
       "4           4        11  Dile Que Tu Me Quieres  Ozuna     8307  2017-01-05   \n",
       "\n",
       "   country   album  explicit  danceability  energy  loudness  mode  \\\n",
       "0  Ecuador  Odisea     False         0.773   0.757    -4.959     1   \n",
       "1  Ecuador  Odisea     False         0.773   0.757    -4.959     1   \n",
       "2  Ecuador  Odisea     False         0.773   0.757    -4.959     1   \n",
       "3  Ecuador  Odisea     False         0.773   0.757    -4.959     1   \n",
       "4  Ecuador  Odisea     False         0.773   0.757    -4.959     1   \n",
       "\n",
       "   speechiness  acousticness  instrumentalness  liveness  valence   tempo  \\\n",
       "0       0.0526        0.0864          0.000004    0.0727    0.858  88.006   \n",
       "1       0.0526        0.0864          0.000004    0.0727    0.858  88.006   \n",
       "2       0.0526        0.0864          0.000004    0.0727    0.858  88.006   \n",
       "3       0.0526        0.0864          0.000004    0.0727    0.858  88.006   \n",
       "4       0.0526        0.0864          0.000004    0.0727    0.858  88.006   \n",
       "\n",
       "   duration_ms  release_year release_date _merge  \n",
       "0       226520          2017   2017-08-25   both  \n",
       "1       226520          2017   2017-08-25   both  \n",
       "2       226520          2017   2017-08-25   both  \n",
       "3       226520          2017   2017-08-25   both  \n",
       "4       226520          2017   2017-08-25   both  "
      ]
     },
     "execution_count": 36,
     "metadata": {},
     "output_type": "execute_result"
    }
   ],
   "source": [
    "# Check\n",
    "df.head()"
   ]
  },
  {
   "cell_type": "code",
   "execution_count": 37,
   "id": "bf6045f3",
   "metadata": {
    "ExecuteTime": {
     "end_time": "2021-12-16T23:23:23.481272Z",
     "start_time": "2021-12-16T23:23:23.372262Z"
    }
   },
   "outputs": [],
   "source": [
    "# Remove columns\n",
    "df = df.drop(columns = [\"Unnamed: 0\", \"_merge\"])"
   ]
  },
  {
   "cell_type": "code",
   "execution_count": 38,
   "id": "2dd4841e",
   "metadata": {
    "ExecuteTime": {
     "end_time": "2021-12-16T23:23:23.529273Z",
     "start_time": "2021-12-16T23:23:23.486273Z"
    }
   },
   "outputs": [
    {
     "data": {
      "text/html": [
       "<div>\n",
       "<style scoped>\n",
       "    .dataframe tbody tr th:only-of-type {\n",
       "        vertical-align: middle;\n",
       "    }\n",
       "\n",
       "    .dataframe tbody tr th {\n",
       "        vertical-align: top;\n",
       "    }\n",
       "\n",
       "    .dataframe thead th {\n",
       "        text-align: right;\n",
       "    }\n",
       "</style>\n",
       "<table border=\"1\" class=\"dataframe\">\n",
       "  <thead>\n",
       "    <tr style=\"text-align: right;\">\n",
       "      <th></th>\n",
       "      <th>position</th>\n",
       "      <th>track_name</th>\n",
       "      <th>artist</th>\n",
       "      <th>streams</th>\n",
       "      <th>date</th>\n",
       "      <th>country</th>\n",
       "      <th>album</th>\n",
       "      <th>explicit</th>\n",
       "      <th>danceability</th>\n",
       "      <th>energy</th>\n",
       "      <th>loudness</th>\n",
       "      <th>mode</th>\n",
       "      <th>speechiness</th>\n",
       "      <th>acousticness</th>\n",
       "      <th>instrumentalness</th>\n",
       "      <th>liveness</th>\n",
       "      <th>valence</th>\n",
       "      <th>tempo</th>\n",
       "      <th>duration_ms</th>\n",
       "      <th>release_year</th>\n",
       "      <th>release_date</th>\n",
       "    </tr>\n",
       "  </thead>\n",
       "  <tbody>\n",
       "    <tr>\n",
       "      <th>0</th>\n",
       "      <td>12</td>\n",
       "      <td>Dile Que Tu Me Quieres</td>\n",
       "      <td>Ozuna</td>\n",
       "      <td>8982</td>\n",
       "      <td>2017-01-01</td>\n",
       "      <td>Ecuador</td>\n",
       "      <td>Odisea</td>\n",
       "      <td>False</td>\n",
       "      <td>0.773</td>\n",
       "      <td>0.757</td>\n",
       "      <td>-4.959</td>\n",
       "      <td>1</td>\n",
       "      <td>0.0526</td>\n",
       "      <td>0.0864</td>\n",
       "      <td>0.000004</td>\n",
       "      <td>0.0727</td>\n",
       "      <td>0.858</td>\n",
       "      <td>88.006</td>\n",
       "      <td>226520</td>\n",
       "      <td>2017</td>\n",
       "      <td>2017-08-25</td>\n",
       "    </tr>\n",
       "    <tr>\n",
       "      <th>1</th>\n",
       "      <td>12</td>\n",
       "      <td>Dile Que Tu Me Quieres</td>\n",
       "      <td>Ozuna</td>\n",
       "      <td>8048</td>\n",
       "      <td>2017-01-02</td>\n",
       "      <td>Ecuador</td>\n",
       "      <td>Odisea</td>\n",
       "      <td>False</td>\n",
       "      <td>0.773</td>\n",
       "      <td>0.757</td>\n",
       "      <td>-4.959</td>\n",
       "      <td>1</td>\n",
       "      <td>0.0526</td>\n",
       "      <td>0.0864</td>\n",
       "      <td>0.000004</td>\n",
       "      <td>0.0727</td>\n",
       "      <td>0.858</td>\n",
       "      <td>88.006</td>\n",
       "      <td>226520</td>\n",
       "      <td>2017</td>\n",
       "      <td>2017-08-25</td>\n",
       "    </tr>\n",
       "    <tr>\n",
       "      <th>2</th>\n",
       "      <td>12</td>\n",
       "      <td>Dile Que Tu Me Quieres</td>\n",
       "      <td>Ozuna</td>\n",
       "      <td>8425</td>\n",
       "      <td>2017-01-03</td>\n",
       "      <td>Ecuador</td>\n",
       "      <td>Odisea</td>\n",
       "      <td>False</td>\n",
       "      <td>0.773</td>\n",
       "      <td>0.757</td>\n",
       "      <td>-4.959</td>\n",
       "      <td>1</td>\n",
       "      <td>0.0526</td>\n",
       "      <td>0.0864</td>\n",
       "      <td>0.000004</td>\n",
       "      <td>0.0727</td>\n",
       "      <td>0.858</td>\n",
       "      <td>88.006</td>\n",
       "      <td>226520</td>\n",
       "      <td>2017</td>\n",
       "      <td>2017-08-25</td>\n",
       "    </tr>\n",
       "    <tr>\n",
       "      <th>3</th>\n",
       "      <td>12</td>\n",
       "      <td>Dile Que Tu Me Quieres</td>\n",
       "      <td>Ozuna</td>\n",
       "      <td>8808</td>\n",
       "      <td>2017-01-04</td>\n",
       "      <td>Ecuador</td>\n",
       "      <td>Odisea</td>\n",
       "      <td>False</td>\n",
       "      <td>0.773</td>\n",
       "      <td>0.757</td>\n",
       "      <td>-4.959</td>\n",
       "      <td>1</td>\n",
       "      <td>0.0526</td>\n",
       "      <td>0.0864</td>\n",
       "      <td>0.000004</td>\n",
       "      <td>0.0727</td>\n",
       "      <td>0.858</td>\n",
       "      <td>88.006</td>\n",
       "      <td>226520</td>\n",
       "      <td>2017</td>\n",
       "      <td>2017-08-25</td>\n",
       "    </tr>\n",
       "    <tr>\n",
       "      <th>4</th>\n",
       "      <td>11</td>\n",
       "      <td>Dile Que Tu Me Quieres</td>\n",
       "      <td>Ozuna</td>\n",
       "      <td>8307</td>\n",
       "      <td>2017-01-05</td>\n",
       "      <td>Ecuador</td>\n",
       "      <td>Odisea</td>\n",
       "      <td>False</td>\n",
       "      <td>0.773</td>\n",
       "      <td>0.757</td>\n",
       "      <td>-4.959</td>\n",
       "      <td>1</td>\n",
       "      <td>0.0526</td>\n",
       "      <td>0.0864</td>\n",
       "      <td>0.000004</td>\n",
       "      <td>0.0727</td>\n",
       "      <td>0.858</td>\n",
       "      <td>88.006</td>\n",
       "      <td>226520</td>\n",
       "      <td>2017</td>\n",
       "      <td>2017-08-25</td>\n",
       "    </tr>\n",
       "  </tbody>\n",
       "</table>\n",
       "</div>"
      ],
      "text/plain": [
       "   position              track_name artist  streams        date  country  \\\n",
       "0        12  Dile Que Tu Me Quieres  Ozuna     8982  2017-01-01  Ecuador   \n",
       "1        12  Dile Que Tu Me Quieres  Ozuna     8048  2017-01-02  Ecuador   \n",
       "2        12  Dile Que Tu Me Quieres  Ozuna     8425  2017-01-03  Ecuador   \n",
       "3        12  Dile Que Tu Me Quieres  Ozuna     8808  2017-01-04  Ecuador   \n",
       "4        11  Dile Que Tu Me Quieres  Ozuna     8307  2017-01-05  Ecuador   \n",
       "\n",
       "    album  explicit  danceability  energy  loudness  mode  speechiness  \\\n",
       "0  Odisea     False         0.773   0.757    -4.959     1       0.0526   \n",
       "1  Odisea     False         0.773   0.757    -4.959     1       0.0526   \n",
       "2  Odisea     False         0.773   0.757    -4.959     1       0.0526   \n",
       "3  Odisea     False         0.773   0.757    -4.959     1       0.0526   \n",
       "4  Odisea     False         0.773   0.757    -4.959     1       0.0526   \n",
       "\n",
       "   acousticness  instrumentalness  liveness  valence   tempo  duration_ms  \\\n",
       "0        0.0864          0.000004    0.0727    0.858  88.006       226520   \n",
       "1        0.0864          0.000004    0.0727    0.858  88.006       226520   \n",
       "2        0.0864          0.000004    0.0727    0.858  88.006       226520   \n",
       "3        0.0864          0.000004    0.0727    0.858  88.006       226520   \n",
       "4        0.0864          0.000004    0.0727    0.858  88.006       226520   \n",
       "\n",
       "   release_year release_date  \n",
       "0          2017   2017-08-25  \n",
       "1          2017   2017-08-25  \n",
       "2          2017   2017-08-25  \n",
       "3          2017   2017-08-25  \n",
       "4          2017   2017-08-25  "
      ]
     },
     "execution_count": 38,
     "metadata": {},
     "output_type": "execute_result"
    }
   ],
   "source": [
    "# Check\n",
    "df.head()"
   ]
  },
  {
   "cell_type": "markdown",
   "id": "f3b01104",
   "metadata": {},
   "source": [
    "# Prepare Data for Regression Analysis"
   ]
  },
  {
   "cell_type": "code",
   "execution_count": 39,
   "id": "6574f0e3",
   "metadata": {
    "ExecuteTime": {
     "end_time": "2021-12-16T23:23:26.826753Z",
     "start_time": "2021-12-16T23:23:23.532275Z"
    }
   },
   "outputs": [
    {
     "data": {
      "image/png": "[encoded data removed]",
      "text/plain": [
       "<Figure size 432x288 with 1 Axes>"
      ]
     },
     "metadata": {
      "needs_background": "light"
     },
     "output_type": "display_data"
    }
   ],
   "source": [
    "# Create a scatterplot using matplotlib for another look at how the chosen variables plot against each other\n",
    "df.plot(x = \"valence\", y= \"danceability\", style=\"o\") # The style option creates a scatterplot; without it, we only have lines\n",
    "plt.title(\"Music Positiveness vs Danceability\")  \n",
    "plt.xlabel(\"Valence (Music Positiveness)\")  \n",
    "plt.ylabel(\"Danceability\")  \n",
    "plt.show()"
   ]
  },
  {
   "cell_type": "markdown",
   "id": "aeb77da5",
   "metadata": {},
   "source": [
    "Hypothesis: The more danceable the song is, the higher the song scores on music positiveness."
   ]
  },
  {
   "cell_type": "code",
   "execution_count": 40,
   "id": "8e799771",
   "metadata": {
    "ExecuteTime": {
     "end_time": "2021-12-16T23:23:26.842326Z",
     "start_time": "2021-12-16T23:23:26.828820Z"
    }
   },
   "outputs": [],
   "source": [
    "# Reshape the variables into NumPy arrays and put them into separate objects\n",
    "X = df[\"valence\"].values.reshape(-1,1)\n",
    "y = df[\"danceability\"].values.reshape(-1,1)"
   ]
  },
  {
   "cell_type": "code",
   "execution_count": 41,
   "id": "efb3ef36",
   "metadata": {
    "ExecuteTime": {
     "end_time": "2021-12-16T23:23:26.857331Z",
     "start_time": "2021-12-16T23:23:26.845327Z"
    }
   },
   "outputs": [
    {
     "data": {
      "text/plain": [
       "array([[0.858],\n",
       "       [0.858],\n",
       "       [0.858],\n",
       "       ...,\n",
       "       [0.389],\n",
       "       [0.395],\n",
       "       [0.389]])"
      ]
     },
     "execution_count": 41,
     "metadata": {},
     "output_type": "execute_result"
    }
   ],
   "source": [
    "# Check\n",
    "X"
   ]
  },
  {
   "cell_type": "code",
   "execution_count": 42,
   "id": "1707d5ee",
   "metadata": {
    "ExecuteTime": {
     "end_time": "2021-12-16T23:23:26.873326Z",
     "start_time": "2021-12-16T23:23:26.860328Z"
    }
   },
   "outputs": [
    {
     "data": {
      "text/plain": [
       "array([[0.773],\n",
       "       [0.773],\n",
       "       [0.773],\n",
       "       ...,\n",
       "       [0.597],\n",
       "       [0.598],\n",
       "       [0.597]])"
      ]
     },
     "execution_count": 42,
     "metadata": {},
     "output_type": "execute_result"
    }
   ],
   "source": [
    "# Check\n",
    "y"
   ]
  },
  {
   "cell_type": "code",
   "execution_count": 43,
   "id": "8a326a7f",
   "metadata": {
    "ExecuteTime": {
     "end_time": "2021-12-16T23:23:26.981335Z",
     "start_time": "2021-12-16T23:23:26.877331Z"
    }
   },
   "outputs": [],
   "source": [
    "# Split data into a training set and a test set\n",
    "X_train, X_test, y_train, y_test = train_test_split(X, y, test_size=0.3, random_state=0)"
   ]
  },
  {
   "cell_type": "markdown",
   "id": "daf9473d",
   "metadata": {},
   "source": [
    "# Regression Analysis "
   ]
  },
  {
   "cell_type": "code",
   "execution_count": 44,
   "id": "21c12dae",
   "metadata": {
    "ExecuteTime": {
     "end_time": "2021-12-16T23:23:26.997338Z",
     "start_time": "2021-12-16T23:23:26.984339Z"
    }
   },
   "outputs": [],
   "source": [
    "# Create a regression object\n",
    "regression = LinearRegression()  # This is the regression object, which will be fit onto the training set"
   ]
  },
  {
   "cell_type": "code",
   "execution_count": 45,
   "id": "cf4fad65",
   "metadata": {
    "ExecuteTime": {
     "end_time": "2021-12-16T23:23:27.045340Z",
     "start_time": "2021-12-16T23:23:26.999338Z"
    }
   },
   "outputs": [
    {
     "data": {
      "text/plain": [
       "LinearRegression()"
      ]
     },
     "execution_count": 45,
     "metadata": {},
     "output_type": "execute_result"
    }
   ],
   "source": [
    "# Fit the regression object onto the training set / fit the model to the training set\n",
    "regression.fit(X_train, y_train)"
   ]
  },
  {
   "cell_type": "code",
   "execution_count": 46,
   "id": "3326305f",
   "metadata": {
    "ExecuteTime": {
     "end_time": "2021-12-16T23:23:27.061343Z",
     "start_time": "2021-12-16T23:23:27.048343Z"
    }
   },
   "outputs": [],
   "source": [
    "# Predict the values of y using X / create a prediction for y on the test set\n",
    "y_predicted = regression.predict(X_test)"
   ]
  },
  {
   "cell_type": "code",
   "execution_count": 47,
   "id": "82a5929d",
   "metadata": {
    "ExecuteTime": {
     "end_time": "2021-12-16T23:23:27.779283Z",
     "start_time": "2021-12-16T23:23:27.064342Z"
    }
   },
   "outputs": [
    {
     "data": {
      "image/png": "[encoded data removed]",
      "text/plain": [
       "<Figure size 432x288 with 1 Axes>"
      ]
     },
     "metadata": {
      "needs_background": "light"
     },
     "output_type": "display_data"
    }
   ],
   "source": [
    "# Create a plot that shows the regression line from the model on the test set\n",
    "plot_test = plt\n",
    "plot_test.scatter(X_test, y_test, color='gray', s = 15)\n",
    "plot_test.plot(X_test, y_predicted, color='red', linewidth =3)\n",
    "plot_test.title(\"Music Positiveness vs Danceability (Test Set)\")\n",
    "plot_test.xlabel(\"valence\")\n",
    "plot_test.ylabel(\"danceability\")\n",
    "plot_test.show()"
   ]
  },
  {
   "cell_type": "markdown",
   "id": "26060a56",
   "metadata": {},
   "source": [
    "The data points are very scattered. There are some points scoring low valence (i.e. sad songs), but high on danceability."
   ]
  },
  {
   "cell_type": "code",
   "execution_count": 48,
   "id": "48e21be5",
   "metadata": {
    "ExecuteTime": {
     "end_time": "2021-12-16T23:23:27.811292Z",
     "start_time": "2021-12-16T23:23:27.781285Z"
    }
   },
   "outputs": [],
   "source": [
    "# In order to check the accuracy of the model, you need to check its performance in more ways than just visually\n",
    "# Create objects that contain the model summary statistics (slope, root mean squared error, R2 score)\n",
    "\n",
    "rmse = mean_squared_error(y_test, y_predicted) # This is the mean squared error\n",
    "r2 = r2_score(y_test, y_predicted) # This is the R2 score"
   ]
  },
  {
   "cell_type": "code",
   "execution_count": 49,
   "id": "e480ee69",
   "metadata": {
    "ExecuteTime": {
     "end_time": "2021-12-16T23:23:27.827289Z",
     "start_time": "2021-12-16T23:23:27.813288Z"
    }
   },
   "outputs": [
    {
     "name": "stdout",
     "output_type": "stream",
     "text": [
      "Slope: [[0.25556332]]\n",
      "Mean squared error:  0.01875051657211938\n",
      "R2 score:  0.13565103525722688\n"
     ]
    }
   ],
   "source": [
    "# Print the model summary statistics. This is where you evaluate the performance of the model\n",
    "print('Slope:', regression.coef_)\n",
    "print('Mean squared error: ', rmse)\n",
    "print('R2 score: ', r2)"
   ]
  },
  {
   "cell_type": "code",
   "execution_count": 50,
   "id": "e3084531",
   "metadata": {
    "ExecuteTime": {
     "end_time": "2021-12-16T23:23:27.843291Z",
     "start_time": "2021-12-16T23:23:27.829289Z"
    }
   },
   "outputs": [
    {
     "data": {
      "text/plain": [
       "0.7912076259955094"
      ]
     },
     "execution_count": 50,
     "metadata": {},
     "output_type": "execute_result"
    }
   ],
   "source": [
    "y_predicted.max()"
   ]
  },
  {
   "cell_type": "markdown",
   "id": "44521e17",
   "metadata": {},
   "source": [
    "* A positive slope indicates a positive relationship, i.e. the higher a song's positiveness and cheerfuless, the higher the danceability of the song. \n",
    "* A low MSE means that the regression line passes fairly close to the observations, making it a good fit. In this case, the MSE seems low (0.038); however, considering that the scale of the values is actually low toom up until around 0.68, the MSE value may not be that low after all.\n",
    "* R2 score is a metric that shows how well the model explains the variance in the data. In this model, an R2 of 13.5% indicates a poor fit."
   ]
  },
  {
   "cell_type": "code",
   "execution_count": 51,
   "id": "9f557d53",
   "metadata": {
    "ExecuteTime": {
     "end_time": "2021-12-16T23:23:27.859289Z",
     "start_time": "2021-12-16T23:23:27.847294Z"
    }
   },
   "outputs": [
    {
     "data": {
      "text/plain": [
       "array([[0.68029315],\n",
       "       [0.69562695],\n",
       "       [0.65857026],\n",
       "       ...,\n",
       "       [0.57857895],\n",
       "       [0.63863633],\n",
       "       [0.78507411]])"
      ]
     },
     "execution_count": 51,
     "metadata": {},
     "output_type": "execute_result"
    }
   ],
   "source": [
    "y_predicted"
   ]
  },
  {
   "cell_type": "code",
   "execution_count": 52,
   "id": "3def470a",
   "metadata": {
    "ExecuteTime": {
     "end_time": "2021-12-16T23:23:27.891291Z",
     "start_time": "2021-12-16T23:23:27.862292Z"
    }
   },
   "outputs": [
    {
     "data": {
      "text/html": [
       "<div>\n",
       "<style scoped>\n",
       "    .dataframe tbody tr th:only-of-type {\n",
       "        vertical-align: middle;\n",
       "    }\n",
       "\n",
       "    .dataframe tbody tr th {\n",
       "        vertical-align: top;\n",
       "    }\n",
       "\n",
       "    .dataframe thead th {\n",
       "        text-align: right;\n",
       "    }\n",
       "</style>\n",
       "<table border=\"1\" class=\"dataframe\">\n",
       "  <thead>\n",
       "    <tr style=\"text-align: right;\">\n",
       "      <th></th>\n",
       "      <th>Actual</th>\n",
       "      <th>Predicted</th>\n",
       "    </tr>\n",
       "  </thead>\n",
       "  <tbody>\n",
       "    <tr>\n",
       "      <th>0</th>\n",
       "      <td>0.732</td>\n",
       "      <td>0.680293</td>\n",
       "    </tr>\n",
       "    <tr>\n",
       "      <th>1</th>\n",
       "      <td>0.762</td>\n",
       "      <td>0.695627</td>\n",
       "    </tr>\n",
       "    <tr>\n",
       "      <th>2</th>\n",
       "      <td>0.692</td>\n",
       "      <td>0.658570</td>\n",
       "    </tr>\n",
       "    <tr>\n",
       "      <th>3</th>\n",
       "      <td>0.853</td>\n",
       "      <td>0.785074</td>\n",
       "    </tr>\n",
       "    <tr>\n",
       "      <th>4</th>\n",
       "      <td>0.881</td>\n",
       "      <td>0.648092</td>\n",
       "    </tr>\n",
       "    <tr>\n",
       "      <th>5</th>\n",
       "      <td>0.739</td>\n",
       "      <td>0.717350</td>\n",
       "    </tr>\n",
       "    <tr>\n",
       "      <th>6</th>\n",
       "      <td>0.358</td>\n",
       "      <td>0.666493</td>\n",
       "    </tr>\n",
       "    <tr>\n",
       "      <th>7</th>\n",
       "      <td>0.698</td>\n",
       "      <td>0.653970</td>\n",
       "    </tr>\n",
       "    <tr>\n",
       "      <th>8</th>\n",
       "      <td>0.653</td>\n",
       "      <td>0.596213</td>\n",
       "    </tr>\n",
       "    <tr>\n",
       "      <th>9</th>\n",
       "      <td>0.331</td>\n",
       "      <td>0.720672</td>\n",
       "    </tr>\n",
       "    <tr>\n",
       "      <th>10</th>\n",
       "      <td>0.334</td>\n",
       "      <td>0.694349</td>\n",
       "    </tr>\n",
       "    <tr>\n",
       "      <th>11</th>\n",
       "      <td>0.358</td>\n",
       "      <td>0.666493</td>\n",
       "    </tr>\n",
       "    <tr>\n",
       "      <th>12</th>\n",
       "      <td>0.926</td>\n",
       "      <td>0.664193</td>\n",
       "    </tr>\n",
       "    <tr>\n",
       "      <th>13</th>\n",
       "      <td>0.518</td>\n",
       "      <td>0.593657</td>\n",
       "    </tr>\n",
       "    <tr>\n",
       "      <th>14</th>\n",
       "      <td>0.358</td>\n",
       "      <td>0.666493</td>\n",
       "    </tr>\n",
       "    <tr>\n",
       "      <th>15</th>\n",
       "      <td>0.762</td>\n",
       "      <td>0.695627</td>\n",
       "    </tr>\n",
       "    <tr>\n",
       "      <th>16</th>\n",
       "      <td>0.628</td>\n",
       "      <td>0.727317</td>\n",
       "    </tr>\n",
       "    <tr>\n",
       "      <th>17</th>\n",
       "      <td>0.608</td>\n",
       "      <td>0.604391</td>\n",
       "    </tr>\n",
       "    <tr>\n",
       "      <th>18</th>\n",
       "      <td>0.766</td>\n",
       "      <td>0.723228</td>\n",
       "    </tr>\n",
       "    <tr>\n",
       "      <th>19</th>\n",
       "      <td>0.762</td>\n",
       "      <td>0.695627</td>\n",
       "    </tr>\n",
       "    <tr>\n",
       "      <th>20</th>\n",
       "      <td>0.573</td>\n",
       "      <td>0.627903</td>\n",
       "    </tr>\n",
       "    <tr>\n",
       "      <th>21</th>\n",
       "      <td>0.426</td>\n",
       "      <td>0.642214</td>\n",
       "    </tr>\n",
       "    <tr>\n",
       "      <th>22</th>\n",
       "      <td>0.461</td>\n",
       "      <td>0.660615</td>\n",
       "    </tr>\n",
       "    <tr>\n",
       "      <th>23</th>\n",
       "      <td>0.819</td>\n",
       "      <td>0.677226</td>\n",
       "    </tr>\n",
       "    <tr>\n",
       "      <th>24</th>\n",
       "      <td>0.572</td>\n",
       "      <td>0.619980</td>\n",
       "    </tr>\n",
       "    <tr>\n",
       "      <th>25</th>\n",
       "      <td>0.765</td>\n",
       "      <td>0.738050</td>\n",
       "    </tr>\n",
       "    <tr>\n",
       "      <th>26</th>\n",
       "      <td>0.766</td>\n",
       "      <td>0.723228</td>\n",
       "    </tr>\n",
       "    <tr>\n",
       "      <th>27</th>\n",
       "      <td>0.762</td>\n",
       "      <td>0.695627</td>\n",
       "    </tr>\n",
       "    <tr>\n",
       "      <th>28</th>\n",
       "      <td>0.818</td>\n",
       "      <td>0.701760</td>\n",
       "    </tr>\n",
       "    <tr>\n",
       "      <th>29</th>\n",
       "      <td>0.486</td>\n",
       "      <td>0.616147</td>\n",
       "    </tr>\n",
       "  </tbody>\n",
       "</table>\n",
       "</div>"
      ],
      "text/plain": [
       "    Actual  Predicted\n",
       "0    0.732   0.680293\n",
       "1    0.762   0.695627\n",
       "2    0.692   0.658570\n",
       "3    0.853   0.785074\n",
       "4    0.881   0.648092\n",
       "5    0.739   0.717350\n",
       "6    0.358   0.666493\n",
       "7    0.698   0.653970\n",
       "8    0.653   0.596213\n",
       "9    0.331   0.720672\n",
       "10   0.334   0.694349\n",
       "11   0.358   0.666493\n",
       "12   0.926   0.664193\n",
       "13   0.518   0.593657\n",
       "14   0.358   0.666493\n",
       "15   0.762   0.695627\n",
       "16   0.628   0.727317\n",
       "17   0.608   0.604391\n",
       "18   0.766   0.723228\n",
       "19   0.762   0.695627\n",
       "20   0.573   0.627903\n",
       "21   0.426   0.642214\n",
       "22   0.461   0.660615\n",
       "23   0.819   0.677226\n",
       "24   0.572   0.619980\n",
       "25   0.765   0.738050\n",
       "26   0.766   0.723228\n",
       "27   0.762   0.695627\n",
       "28   0.818   0.701760\n",
       "29   0.486   0.616147"
      ]
     },
     "execution_count": 52,
     "metadata": {},
     "output_type": "execute_result"
    }
   ],
   "source": [
    "# Create a dataframe comparing the actual and predicted values of y\n",
    "data = pd.DataFrame({'Actual': y_test.flatten(), 'Predicted': y_predicted.flatten()})\n",
    "data.head(30)"
   ]
  },
  {
   "cell_type": "markdown",
   "id": "16acb685",
   "metadata": {},
   "source": [
    "## Compare how the regression fits the training set"
   ]
  },
  {
   "cell_type": "code",
   "execution_count": 53,
   "id": "6a5f8d07",
   "metadata": {
    "ExecuteTime": {
     "end_time": "2021-12-16T23:23:27.923299Z",
     "start_time": "2021-12-16T23:23:27.899297Z"
    }
   },
   "outputs": [],
   "source": [
    "# Predict the values of y using X\n",
    "y_predicted_train = regression.predict(X_train) # This is predicting X_train!"
   ]
  },
  {
   "cell_type": "code",
   "execution_count": 54,
   "id": "5b1503cf",
   "metadata": {
    "ExecuteTime": {
     "end_time": "2021-12-16T23:23:27.970299Z",
     "start_time": "2021-12-16T23:23:27.927300Z"
    }
   },
   "outputs": [],
   "source": [
    "# Create objects that contain the model summary statistics (slope, root mean squared error, R2 score)\n",
    "rmse = mean_squared_error(y_train, y_predicted_train)\n",
    "r2 = r2_score(y_train, y_predicted_train)"
   ]
  },
  {
   "cell_type": "code",
   "execution_count": 55,
   "id": "84b4956e",
   "metadata": {
    "ExecuteTime": {
     "end_time": "2021-12-16T23:23:27.986301Z",
     "start_time": "2021-12-16T23:23:27.974299Z"
    }
   },
   "outputs": [
    {
     "name": "stdout",
     "output_type": "stream",
     "text": [
      "Slope: [[0.25556332]]\n",
      "Mean squared error:  0.01874454451400702\n",
      "R2 score:  0.13520002630828287\n"
     ]
    }
   ],
   "source": [
    "print('Slope:' , regression.coef_)\n",
    "print('Mean squared error: ', rmse)\n",
    "print('R2 score: ', r2)"
   ]
  },
  {
   "cell_type": "code",
   "execution_count": 56,
   "id": "92fa57e3",
   "metadata": {
    "ExecuteTime": {
     "end_time": "2021-12-16T23:23:29.013199Z",
     "start_time": "2021-12-16T23:23:27.989302Z"
    }
   },
   "outputs": [
    {
     "data": {
      "image/png": "[encoded data removed]",
      "text/plain": [
       "<Figure size 432x288 with 1 Axes>"
      ]
     },
     "metadata": {
      "needs_background": "light"
     },
     "output_type": "display_data"
    }
   ],
   "source": [
    "# Visualizing the training set results\n",
    "\n",
    "plot_test = plt\n",
    "plot_test.scatter(X_train, y_train, color='green', s = 15)\n",
    "plot_test.plot(X_train, y_predicted_train, color='red', linewidth =3)\n",
    "plot_test.title(\"Music Positiveness vs Danceability (Training Set)\")\n",
    "plot_test.xlabel(\"valence\")\n",
    "plot_test.ylabel(\"danceability\")\n",
    "plot_test.show()"
   ]
  },
  {
   "cell_type": "markdown",
   "id": "a442ed0b",
   "metadata": {},
   "source": [
    "The model fits the training set only slightly worse than the test set (confirmed by an R2 score of 0.1352), which means I did not overfit the model. However, it also confirms that the relationship is not linear."
   ]
  },
  {
   "cell_type": "markdown",
   "id": "be1f326f",
   "metadata": {},
   "source": [
    "I can rule out the hypothesis that the higher the song scores on music positiveness, the more danceable it is."
   ]
  }
 ],
 "metadata": {
  "kernelspec": {
   "display_name": "Python 3",
   "language": "python",
   "name": "python3"
  },
  "language_info": {
   "codemirror_mode": {
    "name": "ipython",
    "version": 3
   },
   "file_extension": ".py",
   "mimetype": "text/x-python",
   "name": "python",
   "nbconvert_exporter": "python",
   "pygments_lexer": "ipython3",
   "version": "3.8.8"
  },
  "toc": {
   "base_numbering": 1,
   "nav_menu": {},
   "number_sections": true,
   "sideBar": true,
   "skip_h1_title": false,
   "title_cell": "Table of Contents",
   "title_sidebar": "Contents",
   "toc_cell": false,
   "toc_position": {},
   "toc_section_display": true,
   "toc_window_display": true
  }
 },
 "nbformat": 4,
 "nbformat_minor": 5
}
