{
 "cells": [
  {
   "cell_type": "markdown",
   "id": "8f10a1e0",
   "metadata": {},
   "source": [
    "# Import Data "
   ]
  },
  {
   "cell_type": "code",
   "execution_count": 81,
   "id": "95ccdd3b",
   "metadata": {
    "ExecuteTime": {
     "end_time": "2021-12-16T22:51:29.481529Z",
     "start_time": "2021-12-16T22:51:29.468762Z"
    }
   },
   "outputs": [],
   "source": [
    "# Import libraries\n",
    "import pandas as pd\n",
    "import numpy as np\n",
    "import os"
   ]
  },
  {
   "cell_type": "code",
   "execution_count": 83,
   "id": "1cb5fb71",
   "metadata": {
    "ExecuteTime": {
     "end_time": "2021-12-16T22:51:29.512965Z",
     "start_time": "2021-12-16T22:51:29.499530Z"
    }
   },
   "outputs": [],
   "source": [
    "# Assign path string to variable using raw string r'\n",
    "path = r'D:\\Docs\\Career Foundry\\II. Data Immersion\\6. Advanced Analytics & Dashboard Design\\Spotify Database - Alina Racu'"
   ]
  },
  {
   "cell_type": "code",
   "execution_count": 85,
   "id": "bccf9746",
   "metadata": {
    "ExecuteTime": {
     "end_time": "2021-12-16T22:51:35.194279Z",
     "start_time": "2021-12-16T22:51:29.560984Z"
    }
   },
   "outputs": [],
   "source": [
    "# Import csv file\n",
    "df_tracks = pd.read_csv(os.path.join(path, \"02 Data\", \"Original Data\", \"tracks_2017.csv\" ))"
   ]
  },
  {
   "cell_type": "code",
   "execution_count": 87,
   "id": "d94b80bd",
   "metadata": {
    "ExecuteTime": {
     "end_time": "2021-12-16T22:51:42.405707Z",
     "start_time": "2021-12-16T22:51:35.307577Z"
    }
   },
   "outputs": [
    {
     "ename": "MemoryError",
     "evalue": "Unable to allocate 91.9 MiB for an array with shape (10, 1204025) and data type float64",
     "output_type": "error",
     "traceback": [
      "\u001b[1;31m---------------------------------------------------------------------------\u001b[0m",
      "\u001b[1;31mMemoryError\u001b[0m                               Traceback (most recent call last)",
      "\u001b[1;32m<ipython-input-87-7dbc37438a47>\u001b[0m in \u001b[0;36m<module>\u001b[1;34m\u001b[0m\n\u001b[0;32m      1\u001b[0m \u001b[1;31m# Import csv file\u001b[0m\u001b[1;33m\u001b[0m\u001b[1;33m\u001b[0m\u001b[1;33m\u001b[0m\u001b[0m\n\u001b[1;32m----> 2\u001b[1;33m \u001b[0mdf_features\u001b[0m \u001b[1;33m=\u001b[0m \u001b[0mpd\u001b[0m\u001b[1;33m.\u001b[0m\u001b[0mread_csv\u001b[0m\u001b[1;33m(\u001b[0m\u001b[0mos\u001b[0m\u001b[1;33m.\u001b[0m\u001b[0mpath\u001b[0m\u001b[1;33m.\u001b[0m\u001b[0mjoin\u001b[0m\u001b[1;33m(\u001b[0m\u001b[0mpath\u001b[0m\u001b[1;33m,\u001b[0m \u001b[1;34m\"02 Data\"\u001b[0m\u001b[1;33m,\u001b[0m \u001b[1;34m\"Original Data\"\u001b[0m\u001b[1;33m,\u001b[0m \u001b[1;34m\"tracks_features.csv\"\u001b[0m \u001b[1;33m)\u001b[0m\u001b[1;33m)\u001b[0m\u001b[1;33m\u001b[0m\u001b[1;33m\u001b[0m\u001b[0m\n\u001b[0m",
      "\u001b[1;32m~\\anaconda3\\lib\\site-packages\\pandas\\io\\parsers.py\u001b[0m in \u001b[0;36mread_csv\u001b[1;34m(filepath_or_buffer, sep, delimiter, header, names, index_col, usecols, squeeze, prefix, mangle_dupe_cols, dtype, engine, converters, true_values, false_values, skipinitialspace, skiprows, skipfooter, nrows, na_values, keep_default_na, na_filter, verbose, skip_blank_lines, parse_dates, infer_datetime_format, keep_date_col, date_parser, dayfirst, cache_dates, iterator, chunksize, compression, thousands, decimal, lineterminator, quotechar, quoting, doublequote, escapechar, comment, encoding, dialect, error_bad_lines, warn_bad_lines, delim_whitespace, low_memory, memory_map, float_precision, storage_options)\u001b[0m\n\u001b[0;32m    608\u001b[0m     \u001b[0mkwds\u001b[0m\u001b[1;33m.\u001b[0m\u001b[0mupdate\u001b[0m\u001b[1;33m(\u001b[0m\u001b[0mkwds_defaults\u001b[0m\u001b[1;33m)\u001b[0m\u001b[1;33m\u001b[0m\u001b[1;33m\u001b[0m\u001b[0m\n\u001b[0;32m    609\u001b[0m \u001b[1;33m\u001b[0m\u001b[0m\n\u001b[1;32m--> 610\u001b[1;33m     \u001b[1;32mreturn\u001b[0m \u001b[0m_read\u001b[0m\u001b[1;33m(\u001b[0m\u001b[0mfilepath_or_buffer\u001b[0m\u001b[1;33m,\u001b[0m \u001b[0mkwds\u001b[0m\u001b[1;33m)\u001b[0m\u001b[1;33m\u001b[0m\u001b[1;33m\u001b[0m\u001b[0m\n\u001b[0m\u001b[0;32m    611\u001b[0m \u001b[1;33m\u001b[0m\u001b[0m\n\u001b[0;32m    612\u001b[0m \u001b[1;33m\u001b[0m\u001b[0m\n",
      "\u001b[1;32m~\\anaconda3\\lib\\site-packages\\pandas\\io\\parsers.py\u001b[0m in \u001b[0;36m_read\u001b[1;34m(filepath_or_buffer, kwds)\u001b[0m\n\u001b[0;32m    466\u001b[0m \u001b[1;33m\u001b[0m\u001b[0m\n\u001b[0;32m    467\u001b[0m     \u001b[1;32mwith\u001b[0m \u001b[0mparser\u001b[0m\u001b[1;33m:\u001b[0m\u001b[1;33m\u001b[0m\u001b[1;33m\u001b[0m\u001b[0m\n\u001b[1;32m--> 468\u001b[1;33m         \u001b[1;32mreturn\u001b[0m \u001b[0mparser\u001b[0m\u001b[1;33m.\u001b[0m\u001b[0mread\u001b[0m\u001b[1;33m(\u001b[0m\u001b[0mnrows\u001b[0m\u001b[1;33m)\u001b[0m\u001b[1;33m\u001b[0m\u001b[1;33m\u001b[0m\u001b[0m\n\u001b[0m\u001b[0;32m    469\u001b[0m \u001b[1;33m\u001b[0m\u001b[0m\n\u001b[0;32m    470\u001b[0m \u001b[1;33m\u001b[0m\u001b[0m\n",
      "\u001b[1;32m~\\anaconda3\\lib\\site-packages\\pandas\\io\\parsers.py\u001b[0m in \u001b[0;36mread\u001b[1;34m(self, nrows)\u001b[0m\n\u001b[0;32m   1067\u001b[0m             \u001b[0mnew_rows\u001b[0m \u001b[1;33m=\u001b[0m \u001b[0mlen\u001b[0m\u001b[1;33m(\u001b[0m\u001b[0mindex\u001b[0m\u001b[1;33m)\u001b[0m\u001b[1;33m\u001b[0m\u001b[1;33m\u001b[0m\u001b[0m\n\u001b[0;32m   1068\u001b[0m \u001b[1;33m\u001b[0m\u001b[0m\n\u001b[1;32m-> 1069\u001b[1;33m         \u001b[0mdf\u001b[0m \u001b[1;33m=\u001b[0m \u001b[0mDataFrame\u001b[0m\u001b[1;33m(\u001b[0m\u001b[0mcol_dict\u001b[0m\u001b[1;33m,\u001b[0m \u001b[0mcolumns\u001b[0m\u001b[1;33m=\u001b[0m\u001b[0mcolumns\u001b[0m\u001b[1;33m,\u001b[0m \u001b[0mindex\u001b[0m\u001b[1;33m=\u001b[0m\u001b[0mindex\u001b[0m\u001b[1;33m)\u001b[0m\u001b[1;33m\u001b[0m\u001b[1;33m\u001b[0m\u001b[0m\n\u001b[0m\u001b[0;32m   1070\u001b[0m \u001b[1;33m\u001b[0m\u001b[0m\n\u001b[0;32m   1071\u001b[0m         \u001b[0mself\u001b[0m\u001b[1;33m.\u001b[0m\u001b[0m_currow\u001b[0m \u001b[1;33m+=\u001b[0m \u001b[0mnew_rows\u001b[0m\u001b[1;33m\u001b[0m\u001b[1;33m\u001b[0m\u001b[0m\n",
      "\u001b[1;32m~\\anaconda3\\lib\\site-packages\\pandas\\core\\frame.py\u001b[0m in \u001b[0;36m__init__\u001b[1;34m(self, data, index, columns, dtype, copy)\u001b[0m\n\u001b[0;32m    527\u001b[0m \u001b[1;33m\u001b[0m\u001b[0m\n\u001b[0;32m    528\u001b[0m         \u001b[1;32melif\u001b[0m \u001b[0misinstance\u001b[0m\u001b[1;33m(\u001b[0m\u001b[0mdata\u001b[0m\u001b[1;33m,\u001b[0m \u001b[0mdict\u001b[0m\u001b[1;33m)\u001b[0m\u001b[1;33m:\u001b[0m\u001b[1;33m\u001b[0m\u001b[1;33m\u001b[0m\u001b[0m\n\u001b[1;32m--> 529\u001b[1;33m             \u001b[0mmgr\u001b[0m \u001b[1;33m=\u001b[0m \u001b[0minit_dict\u001b[0m\u001b[1;33m(\u001b[0m\u001b[0mdata\u001b[0m\u001b[1;33m,\u001b[0m \u001b[0mindex\u001b[0m\u001b[1;33m,\u001b[0m \u001b[0mcolumns\u001b[0m\u001b[1;33m,\u001b[0m \u001b[0mdtype\u001b[0m\u001b[1;33m=\u001b[0m\u001b[0mdtype\u001b[0m\u001b[1;33m)\u001b[0m\u001b[1;33m\u001b[0m\u001b[1;33m\u001b[0m\u001b[0m\n\u001b[0m\u001b[0;32m    530\u001b[0m         \u001b[1;32melif\u001b[0m \u001b[0misinstance\u001b[0m\u001b[1;33m(\u001b[0m\u001b[0mdata\u001b[0m\u001b[1;33m,\u001b[0m \u001b[0mma\u001b[0m\u001b[1;33m.\u001b[0m\u001b[0mMaskedArray\u001b[0m\u001b[1;33m)\u001b[0m\u001b[1;33m:\u001b[0m\u001b[1;33m\u001b[0m\u001b[1;33m\u001b[0m\u001b[0m\n\u001b[0;32m    531\u001b[0m             \u001b[1;32mimport\u001b[0m \u001b[0mnumpy\u001b[0m\u001b[1;33m.\u001b[0m\u001b[0mma\u001b[0m\u001b[1;33m.\u001b[0m\u001b[0mmrecords\u001b[0m \u001b[1;32mas\u001b[0m \u001b[0mmrecords\u001b[0m\u001b[1;33m\u001b[0m\u001b[1;33m\u001b[0m\u001b[0m\n",
      "\u001b[1;32m~\\anaconda3\\lib\\site-packages\\pandas\\core\\internals\\construction.py\u001b[0m in \u001b[0;36minit_dict\u001b[1;34m(data, index, columns, dtype)\u001b[0m\n\u001b[0;32m    285\u001b[0m             \u001b[0marr\u001b[0m \u001b[1;32mif\u001b[0m \u001b[1;32mnot\u001b[0m \u001b[0mis_datetime64tz_dtype\u001b[0m\u001b[1;33m(\u001b[0m\u001b[0marr\u001b[0m\u001b[1;33m)\u001b[0m \u001b[1;32melse\u001b[0m \u001b[0marr\u001b[0m\u001b[1;33m.\u001b[0m\u001b[0mcopy\u001b[0m\u001b[1;33m(\u001b[0m\u001b[1;33m)\u001b[0m \u001b[1;32mfor\u001b[0m \u001b[0marr\u001b[0m \u001b[1;32min\u001b[0m \u001b[0marrays\u001b[0m\u001b[1;33m\u001b[0m\u001b[1;33m\u001b[0m\u001b[0m\n\u001b[0;32m    286\u001b[0m         ]\n\u001b[1;32m--> 287\u001b[1;33m     \u001b[1;32mreturn\u001b[0m \u001b[0marrays_to_mgr\u001b[0m\u001b[1;33m(\u001b[0m\u001b[0marrays\u001b[0m\u001b[1;33m,\u001b[0m \u001b[0mdata_names\u001b[0m\u001b[1;33m,\u001b[0m \u001b[0mindex\u001b[0m\u001b[1;33m,\u001b[0m \u001b[0mcolumns\u001b[0m\u001b[1;33m,\u001b[0m \u001b[0mdtype\u001b[0m\u001b[1;33m=\u001b[0m\u001b[0mdtype\u001b[0m\u001b[1;33m)\u001b[0m\u001b[1;33m\u001b[0m\u001b[1;33m\u001b[0m\u001b[0m\n\u001b[0m\u001b[0;32m    288\u001b[0m \u001b[1;33m\u001b[0m\u001b[0m\n\u001b[0;32m    289\u001b[0m \u001b[1;33m\u001b[0m\u001b[0m\n",
      "\u001b[1;32m~\\anaconda3\\lib\\site-packages\\pandas\\core\\internals\\construction.py\u001b[0m in \u001b[0;36marrays_to_mgr\u001b[1;34m(arrays, arr_names, index, columns, dtype, verify_integrity)\u001b[0m\n\u001b[0;32m     93\u001b[0m     \u001b[0maxes\u001b[0m \u001b[1;33m=\u001b[0m \u001b[1;33m[\u001b[0m\u001b[0mcolumns\u001b[0m\u001b[1;33m,\u001b[0m \u001b[0mindex\u001b[0m\u001b[1;33m]\u001b[0m\u001b[1;33m\u001b[0m\u001b[1;33m\u001b[0m\u001b[0m\n\u001b[0;32m     94\u001b[0m \u001b[1;33m\u001b[0m\u001b[0m\n\u001b[1;32m---> 95\u001b[1;33m     \u001b[1;32mreturn\u001b[0m \u001b[0mcreate_block_manager_from_arrays\u001b[0m\u001b[1;33m(\u001b[0m\u001b[0marrays\u001b[0m\u001b[1;33m,\u001b[0m \u001b[0marr_names\u001b[0m\u001b[1;33m,\u001b[0m \u001b[0maxes\u001b[0m\u001b[1;33m)\u001b[0m\u001b[1;33m\u001b[0m\u001b[1;33m\u001b[0m\u001b[0m\n\u001b[0m\u001b[0;32m     96\u001b[0m \u001b[1;33m\u001b[0m\u001b[0m\n\u001b[0;32m     97\u001b[0m \u001b[1;33m\u001b[0m\u001b[0m\n",
      "\u001b[1;32m~\\anaconda3\\lib\\site-packages\\pandas\\core\\internals\\managers.py\u001b[0m in \u001b[0;36mcreate_block_manager_from_arrays\u001b[1;34m(arrays, names, axes)\u001b[0m\n\u001b[0;32m   1699\u001b[0m     \u001b[0marrays\u001b[0m \u001b[1;33m=\u001b[0m \u001b[1;33m[\u001b[0m\u001b[0mx\u001b[0m \u001b[1;32mif\u001b[0m \u001b[1;32mnot\u001b[0m \u001b[0misinstance\u001b[0m\u001b[1;33m(\u001b[0m\u001b[0mx\u001b[0m\u001b[1;33m,\u001b[0m \u001b[0mABCPandasArray\u001b[0m\u001b[1;33m)\u001b[0m \u001b[1;32melse\u001b[0m \u001b[0mx\u001b[0m\u001b[1;33m.\u001b[0m\u001b[0mto_numpy\u001b[0m\u001b[1;33m(\u001b[0m\u001b[1;33m)\u001b[0m \u001b[1;32mfor\u001b[0m \u001b[0mx\u001b[0m \u001b[1;32min\u001b[0m \u001b[0marrays\u001b[0m\u001b[1;33m]\u001b[0m\u001b[1;33m\u001b[0m\u001b[1;33m\u001b[0m\u001b[0m\n\u001b[0;32m   1700\u001b[0m     \u001b[1;32mtry\u001b[0m\u001b[1;33m:\u001b[0m\u001b[1;33m\u001b[0m\u001b[1;33m\u001b[0m\u001b[0m\n\u001b[1;32m-> 1701\u001b[1;33m         \u001b[0mblocks\u001b[0m \u001b[1;33m=\u001b[0m \u001b[0m_form_blocks\u001b[0m\u001b[1;33m(\u001b[0m\u001b[0marrays\u001b[0m\u001b[1;33m,\u001b[0m \u001b[0mnames\u001b[0m\u001b[1;33m,\u001b[0m \u001b[0maxes\u001b[0m\u001b[1;33m)\u001b[0m\u001b[1;33m\u001b[0m\u001b[1;33m\u001b[0m\u001b[0m\n\u001b[0m\u001b[0;32m   1702\u001b[0m         \u001b[0mmgr\u001b[0m \u001b[1;33m=\u001b[0m \u001b[0mBlockManager\u001b[0m\u001b[1;33m(\u001b[0m\u001b[0mblocks\u001b[0m\u001b[1;33m,\u001b[0m \u001b[0maxes\u001b[0m\u001b[1;33m)\u001b[0m\u001b[1;33m\u001b[0m\u001b[1;33m\u001b[0m\u001b[0m\n\u001b[0;32m   1703\u001b[0m         \u001b[0mmgr\u001b[0m\u001b[1;33m.\u001b[0m\u001b[0m_consolidate_inplace\u001b[0m\u001b[1;33m(\u001b[0m\u001b[1;33m)\u001b[0m\u001b[1;33m\u001b[0m\u001b[1;33m\u001b[0m\u001b[0m\n",
      "\u001b[1;32m~\\anaconda3\\lib\\site-packages\\pandas\\core\\internals\\managers.py\u001b[0m in \u001b[0;36m_form_blocks\u001b[1;34m(arrays, names, axes)\u001b[0m\n\u001b[0;32m   1757\u001b[0m     \u001b[0mblocks\u001b[0m\u001b[1;33m:\u001b[0m \u001b[0mList\u001b[0m\u001b[1;33m[\u001b[0m\u001b[0mBlock\u001b[0m\u001b[1;33m]\u001b[0m \u001b[1;33m=\u001b[0m \u001b[1;33m[\u001b[0m\u001b[1;33m]\u001b[0m\u001b[1;33m\u001b[0m\u001b[1;33m\u001b[0m\u001b[0m\n\u001b[0;32m   1758\u001b[0m     \u001b[1;32mif\u001b[0m \u001b[0mlen\u001b[0m\u001b[1;33m(\u001b[0m\u001b[0mitems_dict\u001b[0m\u001b[1;33m[\u001b[0m\u001b[1;34m\"FloatBlock\"\u001b[0m\u001b[1;33m]\u001b[0m\u001b[1;33m)\u001b[0m\u001b[1;33m:\u001b[0m\u001b[1;33m\u001b[0m\u001b[1;33m\u001b[0m\u001b[0m\n\u001b[1;32m-> 1759\u001b[1;33m         \u001b[0mfloat_blocks\u001b[0m \u001b[1;33m=\u001b[0m \u001b[0m_multi_blockify\u001b[0m\u001b[1;33m(\u001b[0m\u001b[0mitems_dict\u001b[0m\u001b[1;33m[\u001b[0m\u001b[1;34m\"FloatBlock\"\u001b[0m\u001b[1;33m]\u001b[0m\u001b[1;33m)\u001b[0m\u001b[1;33m\u001b[0m\u001b[1;33m\u001b[0m\u001b[0m\n\u001b[0m\u001b[0;32m   1760\u001b[0m         \u001b[0mblocks\u001b[0m\u001b[1;33m.\u001b[0m\u001b[0mextend\u001b[0m\u001b[1;33m(\u001b[0m\u001b[0mfloat_blocks\u001b[0m\u001b[1;33m)\u001b[0m\u001b[1;33m\u001b[0m\u001b[1;33m\u001b[0m\u001b[0m\n\u001b[0;32m   1761\u001b[0m \u001b[1;33m\u001b[0m\u001b[0m\n",
      "\u001b[1;32m~\\anaconda3\\lib\\site-packages\\pandas\\core\\internals\\managers.py\u001b[0m in \u001b[0;36m_multi_blockify\u001b[1;34m(tuples, dtype)\u001b[0m\n\u001b[0;32m   1850\u001b[0m     \u001b[1;32mfor\u001b[0m \u001b[0mdtype\u001b[0m\u001b[1;33m,\u001b[0m \u001b[0mtup_block\u001b[0m \u001b[1;32min\u001b[0m \u001b[0mgrouper\u001b[0m\u001b[1;33m:\u001b[0m\u001b[1;33m\u001b[0m\u001b[1;33m\u001b[0m\u001b[0m\n\u001b[0;32m   1851\u001b[0m \u001b[1;33m\u001b[0m\u001b[0m\n\u001b[1;32m-> 1852\u001b[1;33m         \u001b[0mvalues\u001b[0m\u001b[1;33m,\u001b[0m \u001b[0mplacement\u001b[0m \u001b[1;33m=\u001b[0m \u001b[0m_stack_arrays\u001b[0m\u001b[1;33m(\u001b[0m\u001b[0mlist\u001b[0m\u001b[1;33m(\u001b[0m\u001b[0mtup_block\u001b[0m\u001b[1;33m)\u001b[0m\u001b[1;33m,\u001b[0m \u001b[0mdtype\u001b[0m\u001b[1;33m)\u001b[0m\u001b[1;33m\u001b[0m\u001b[1;33m\u001b[0m\u001b[0m\n\u001b[0m\u001b[0;32m   1853\u001b[0m \u001b[1;33m\u001b[0m\u001b[0m\n\u001b[0;32m   1854\u001b[0m         \u001b[0mblock\u001b[0m \u001b[1;33m=\u001b[0m \u001b[0mmake_block\u001b[0m\u001b[1;33m(\u001b[0m\u001b[0mvalues\u001b[0m\u001b[1;33m,\u001b[0m \u001b[0mplacement\u001b[0m\u001b[1;33m=\u001b[0m\u001b[0mplacement\u001b[0m\u001b[1;33m,\u001b[0m \u001b[0mndim\u001b[0m\u001b[1;33m=\u001b[0m\u001b[1;36m2\u001b[0m\u001b[1;33m)\u001b[0m\u001b[1;33m\u001b[0m\u001b[1;33m\u001b[0m\u001b[0m\n",
      "\u001b[1;32m~\\anaconda3\\lib\\site-packages\\pandas\\core\\internals\\managers.py\u001b[0m in \u001b[0;36m_stack_arrays\u001b[1;34m(tuples, dtype)\u001b[0m\n\u001b[0;32m   1878\u001b[0m     \u001b[0mshape\u001b[0m \u001b[1;33m=\u001b[0m \u001b[1;33m(\u001b[0m\u001b[0mlen\u001b[0m\u001b[1;33m(\u001b[0m\u001b[0marrays\u001b[0m\u001b[1;33m)\u001b[0m\u001b[1;33m,\u001b[0m\u001b[1;33m)\u001b[0m \u001b[1;33m+\u001b[0m \u001b[0m_shape_compat\u001b[0m\u001b[1;33m(\u001b[0m\u001b[0mfirst\u001b[0m\u001b[1;33m)\u001b[0m\u001b[1;33m\u001b[0m\u001b[1;33m\u001b[0m\u001b[0m\n\u001b[0;32m   1879\u001b[0m \u001b[1;33m\u001b[0m\u001b[0m\n\u001b[1;32m-> 1880\u001b[1;33m     \u001b[0mstacked\u001b[0m \u001b[1;33m=\u001b[0m \u001b[0mnp\u001b[0m\u001b[1;33m.\u001b[0m\u001b[0mempty\u001b[0m\u001b[1;33m(\u001b[0m\u001b[0mshape\u001b[0m\u001b[1;33m,\u001b[0m \u001b[0mdtype\u001b[0m\u001b[1;33m=\u001b[0m\u001b[0mdtype\u001b[0m\u001b[1;33m)\u001b[0m\u001b[1;33m\u001b[0m\u001b[1;33m\u001b[0m\u001b[0m\n\u001b[0m\u001b[0;32m   1881\u001b[0m     \u001b[1;32mfor\u001b[0m \u001b[0mi\u001b[0m\u001b[1;33m,\u001b[0m \u001b[0marr\u001b[0m \u001b[1;32min\u001b[0m \u001b[0menumerate\u001b[0m\u001b[1;33m(\u001b[0m\u001b[0marrays\u001b[0m\u001b[1;33m)\u001b[0m\u001b[1;33m:\u001b[0m\u001b[1;33m\u001b[0m\u001b[1;33m\u001b[0m\u001b[0m\n\u001b[0;32m   1882\u001b[0m         \u001b[0mstacked\u001b[0m\u001b[1;33m[\u001b[0m\u001b[0mi\u001b[0m\u001b[1;33m]\u001b[0m \u001b[1;33m=\u001b[0m \u001b[0m_asarray_compat\u001b[0m\u001b[1;33m(\u001b[0m\u001b[0marr\u001b[0m\u001b[1;33m)\u001b[0m\u001b[1;33m\u001b[0m\u001b[1;33m\u001b[0m\u001b[0m\n",
      "\u001b[1;31mMemoryError\u001b[0m: Unable to allocate 91.9 MiB for an array with shape (10, 1204025) and data type float64"
     ]
    }
   ],
   "source": [
    "# Import csv file\n",
    "df_features = pd.read_csv(os.path.join(path, \"02 Data\", \"Original Data\", \"tracks_features.csv\" ))"
   ]
  },
  {
   "cell_type": "markdown",
   "id": "530813d0",
   "metadata": {},
   "source": [
    "# Data Cleaning & Consistency Checks"
   ]
  },
  {
   "cell_type": "markdown",
   "id": "678f6a8b",
   "metadata": {},
   "source": [
    "## Dataframe df_tracks"
   ]
  },
  {
   "cell_type": "code",
   "execution_count": null,
   "id": "e2f09ef0",
   "metadata": {
    "ExecuteTime": {
     "end_time": "2021-12-16T22:51:42.411707Z",
     "start_time": "2021-12-16T22:51:26.483Z"
    }
   },
   "outputs": [],
   "source": [
    "# Show number of rows & columns\n",
    "df_tracks.shape"
   ]
  },
  {
   "cell_type": "code",
   "execution_count": null,
   "id": "b629dbed",
   "metadata": {
    "ExecuteTime": {
     "end_time": "2021-12-16T22:51:42.415709Z",
     "start_time": "2021-12-16T22:51:26.487Z"
    }
   },
   "outputs": [],
   "source": [
    "# Show all columns\n",
    "pd.options.display.max_columns = None"
   ]
  },
  {
   "cell_type": "code",
   "execution_count": null,
   "id": "3fcc300d",
   "metadata": {
    "ExecuteTime": {
     "end_time": "2021-12-16T22:51:42.418707Z",
     "start_time": "2021-12-16T22:51:26.491Z"
    },
    "scrolled": false
   },
   "outputs": [],
   "source": [
    "# Show first 5 rows\n",
    "df_tracks.head()"
   ]
  },
  {
   "cell_type": "markdown",
   "id": "8a7cf036",
   "metadata": {},
   "source": [
    "### Mixed Data Types"
   ]
  },
  {
   "cell_type": "code",
   "execution_count": null,
   "id": "5b625f80",
   "metadata": {
    "ExecuteTime": {
     "end_time": "2021-12-16T22:51:42.421709Z",
     "start_time": "2021-12-16T22:51:26.495Z"
    },
    "scrolled": false
   },
   "outputs": [],
   "source": [
    "# Basic info about dataframe & data types\n",
    "df_tracks.info()"
   ]
  },
  {
   "cell_type": "code",
   "execution_count": null,
   "id": "4723ad97",
   "metadata": {
    "ExecuteTime": {
     "end_time": "2021-12-16T22:51:42.424709Z",
     "start_time": "2021-12-16T22:51:26.499Z"
    },
    "scrolled": true
   },
   "outputs": [],
   "source": [
    "# Search for mixed data types\n",
    "for col in df_tracks.columns.tolist():\n",
    "      weird = (df_tracks[[col]].applymap(type) != df_tracks[[col]].iloc[0].apply(type)).any(axis = 1)\n",
    "      if len (df_tracks[weird]) > 0:\n",
    "        print (col)  \n"
   ]
  },
  {
   "cell_type": "code",
   "execution_count": null,
   "id": "0944096a",
   "metadata": {
    "ExecuteTime": {
     "end_time": "2021-12-16T22:51:42.428708Z",
     "start_time": "2021-12-16T22:51:26.502Z"
    }
   },
   "outputs": [],
   "source": [
    "# Changed data type to string\n",
    "df_tracks[\"Track Name\"] = df_tracks[\"Track Name\"].astype(\"str\")\n",
    "df_tracks[\"Artist\"] = df_tracks[\"Artist\"].astype(\"str\")\n",
    "df_tracks[\"URL\"] = df_tracks[\"URL\"].astype(\"str\")"
   ]
  },
  {
   "cell_type": "code",
   "execution_count": null,
   "id": "c6e3325a",
   "metadata": {
    "ExecuteTime": {
     "end_time": "2021-12-16T22:51:42.432708Z",
     "start_time": "2021-12-16T22:51:26.506Z"
    }
   },
   "outputs": [],
   "source": [
    "# Check data types\n",
    "df_tracks.info()"
   ]
  },
  {
   "cell_type": "markdown",
   "id": "f44b5cb8",
   "metadata": {},
   "source": [
    "### Dropping & Renaming Columns"
   ]
  },
  {
   "cell_type": "code",
   "execution_count": null,
   "id": "7cf60ed5",
   "metadata": {
    "ExecuteTime": {
     "end_time": "2021-12-16T22:51:42.437713Z",
     "start_time": "2021-12-16T22:51:26.509Z"
    }
   },
   "outputs": [],
   "source": [
    "# Remove column\n",
    "df_tracks_new = df_tracks.drop(columns = [\"URL\"])"
   ]
  },
  {
   "cell_type": "code",
   "execution_count": null,
   "id": "fbd14cfa",
   "metadata": {
    "ExecuteTime": {
     "end_time": "2021-12-16T22:51:42.441711Z",
     "start_time": "2021-12-16T22:51:26.513Z"
    },
    "scrolled": true
   },
   "outputs": [],
   "source": [
    "# Rename columns\n",
    "df_tracks_new.rename(columns = {\"Position\" : \"position\",\"Track Name\" : \"track_name\", \"Artist\" : \"artist\",\"Streams\" : \"streams\",\"Date\" : \"date\",\"Region\" : \"country\"}, inplace = True)"
   ]
  },
  {
   "cell_type": "code",
   "execution_count": null,
   "id": "8a3f5378",
   "metadata": {
    "ExecuteTime": {
     "end_time": "2021-12-16T22:51:42.445713Z",
     "start_time": "2021-12-16T22:51:26.517Z"
    },
    "scrolled": true
   },
   "outputs": [],
   "source": [
    "# Check\n",
    "df_tracks_new.head(1)"
   ]
  },
  {
   "cell_type": "markdown",
   "id": "8c79fc45",
   "metadata": {},
   "source": [
    "### Value Counts & Renaming Values"
   ]
  },
  {
   "cell_type": "code",
   "execution_count": null,
   "id": "75f593bd",
   "metadata": {
    "ExecuteTime": {
     "end_time": "2021-12-16T22:51:42.450712Z",
     "start_time": "2021-12-16T22:51:26.520Z"
    },
    "scrolled": true
   },
   "outputs": [],
   "source": [
    "# Table of counts\n",
    "df_tracks_new[\"country\"].value_counts(dropna = False)"
   ]
  },
  {
   "cell_type": "code",
   "execution_count": null,
   "id": "dffae48c",
   "metadata": {
    "ExecuteTime": {
     "end_time": "2021-12-16T22:51:42.456711Z",
     "start_time": "2021-12-16T22:51:26.524Z"
    },
    "scrolled": true
   },
   "outputs": [],
   "source": [
    "# Rename values in column \"region\"\n",
    "df_tracks_new[\"country\"] = df_tracks_new[\"country\"].replace(\n",
    "{\"id\":\"India\", \n",
    " \"ca\":\"Canada\", \n",
    " \"dk\":\"Denmark\",\n",
    " \"ec\":\"Ecuador\",\n",
    " \"tw\":\"Taiwan\",\n",
    " \"es\":\"Spain\", \n",
    " \"au\":\"Australia\", \n",
    " \"se\":\"Sweden\", \n",
    " \"it\":\"Italy\", \n",
    " \"pt\":\"Portugal\", \n",
    " \"nz\":\"New Zealand\", \n",
    " \"us\":\"United States of America\",\n",
    " \"tr\":\"Turkey\",\n",
    " \"ph\":\"Philippines\",\n",
    " \"br\":\"Brazil\",\n",
    " \"be\":\"Belgium\",\n",
    " \"mx\":\"Mexico\",\n",
    " \"fr\":\"France\",\n",
    " \"fi\":\"Finland\",\n",
    " \"hk\":\"Hong Kong\", \n",
    " \"ar\":\"Argentina\", \n",
    " \"cl\":\"Chile\", \n",
    " \"cr\":\"Croatia\", \n",
    " \"ch\":\"Switzerland\",\n",
    " \"pl\":\"Poland\", \n",
    " \"at\":\"Austria\", \n",
    " \"de\":\"Germany\", \n",
    " \"no\":\"Norway\",\n",
    " \"ie\":\"Ireland\",\n",
    " \"pe\":\"Peru\",\n",
    " \"nl\":\"Netherlands\",\n",
    " \"co\":\"Colombia\",\n",
    " \"sg\":\"Singapore\",\n",
    " \"gb\":\"United Kingdom\",\n",
    " \"my\":\"Malaysia\",\n",
    " \"cz\":\"Czech Republic\",\n",
    " \"jp\":\"Japan\",\n",
    " \"gt\":\"Guatemala\",\n",
    " \"uy\":\"Uruguay\",\n",
    " \"do\":\"Dominican Republic\",\n",
    " \"hu\":\"Hungary\", \n",
    " \"py\":\"Paraguay\",\n",
    " \"pa\":\"Panama\",\n",
    " \"hn\":\"Honduras\",\n",
    " \"bo\":\"Bolivia\", \n",
    " \"sv\":\"El Salvador\", \n",
    " \"is\":\"Iceland\", \n",
    " \"gr\":\"Greece\", \n",
    " \"sk\":\"Slovakia\", \n",
    " \"lv\":\"Latvia\", \n",
    " \"lt\":\"Lithuania\", \n",
    " \"ee\":\"Estonia\", \n",
    " \"lu\":\"Luxembourg\", \n",
    " \"global\":\"Global\"})"
   ]
  },
  {
   "cell_type": "code",
   "execution_count": null,
   "id": "fd85c92e",
   "metadata": {
    "ExecuteTime": {
     "end_time": "2021-12-16T22:51:42.460712Z",
     "start_time": "2021-12-16T22:51:26.527Z"
    }
   },
   "outputs": [],
   "source": [
    "# Check if renaming worked\n",
    "df_tracks_new[\"country\"].value_counts(dropna = False)"
   ]
  },
  {
   "cell_type": "markdown",
   "id": "2844f33a",
   "metadata": {},
   "source": [
    "### Missing Values"
   ]
  },
  {
   "cell_type": "code",
   "execution_count": null,
   "id": "aebd2464",
   "metadata": {
    "ExecuteTime": {
     "end_time": "2021-12-16T22:51:42.464711Z",
     "start_time": "2021-12-16T22:51:26.531Z"
    }
   },
   "outputs": [],
   "source": [
    "# Find the sum of missing values\n",
    "df_tracks_new.isnull().sum()"
   ]
  },
  {
   "cell_type": "code",
   "execution_count": null,
   "id": "2792d35c",
   "metadata": {
    "ExecuteTime": {
     "end_time": "2021-12-16T22:51:42.468712Z",
     "start_time": "2021-12-16T22:51:26.534Z"
    }
   },
   "outputs": [],
   "source": [
    "# Remove missing values\n",
    "df_tracks_new = df_tracks_new.dropna(subset=[\"track_name\"])"
   ]
  },
  {
   "cell_type": "code",
   "execution_count": null,
   "id": "38c44e8c",
   "metadata": {
    "ExecuteTime": {
     "end_time": "2021-12-16T22:51:42.472712Z",
     "start_time": "2021-12-16T22:51:26.537Z"
    }
   },
   "outputs": [],
   "source": [
    "# Check if removing missing values worked\n",
    "df_tracks_new.isnull().sum()"
   ]
  },
  {
   "cell_type": "markdown",
   "id": "59575c59",
   "metadata": {},
   "source": [
    "### Duplicates"
   ]
  },
  {
   "cell_type": "code",
   "execution_count": null,
   "id": "64f50e4d",
   "metadata": {
    "ExecuteTime": {
     "end_time": "2021-12-16T22:51:42.476712Z",
     "start_time": "2021-12-16T22:51:26.540Z"
    }
   },
   "outputs": [],
   "source": [
    "# Find duplicates\n",
    "df_tracks_dup = df_tracks_new[df_tracks_new.duplicated()]"
   ]
  },
  {
   "cell_type": "code",
   "execution_count": null,
   "id": "3f976fc9",
   "metadata": {
    "ExecuteTime": {
     "end_time": "2021-12-16T22:51:42.481713Z",
     "start_time": "2021-12-16T22:51:26.544Z"
    }
   },
   "outputs": [],
   "source": [
    "# Check\n",
    "df_tracks_dup # No duplicates found"
   ]
  },
  {
   "cell_type": "markdown",
   "id": "e9348118",
   "metadata": {},
   "source": [
    "## Dataframe df_features"
   ]
  },
  {
   "cell_type": "code",
   "execution_count": null,
   "id": "80613b21",
   "metadata": {
    "ExecuteTime": {
     "end_time": "2021-12-16T22:51:42.483712Z",
     "start_time": "2021-12-16T22:51:26.547Z"
    }
   },
   "outputs": [],
   "source": [
    "# Check\n",
    "df_features.shape"
   ]
  },
  {
   "cell_type": "code",
   "execution_count": null,
   "id": "99c6a4f3",
   "metadata": {
    "ExecuteTime": {
     "end_time": "2021-12-16T22:51:42.485712Z",
     "start_time": "2021-12-16T22:51:26.550Z"
    }
   },
   "outputs": [],
   "source": [
    "# Filter data\n",
    "df_features_new = df_features[(df_features.year > 2015) & (df_features.year <2019)]"
   ]
  },
  {
   "cell_type": "code",
   "execution_count": null,
   "id": "09209d85",
   "metadata": {
    "ExecuteTime": {
     "end_time": "2021-12-16T22:51:42.488713Z",
     "start_time": "2021-12-16T22:51:26.552Z"
    }
   },
   "outputs": [],
   "source": [
    "# Check\n",
    "df_features_new.shape"
   ]
  },
  {
   "cell_type": "code",
   "execution_count": null,
   "id": "4a027751",
   "metadata": {
    "ExecuteTime": {
     "end_time": "2021-12-16T22:51:42.490712Z",
     "start_time": "2021-12-16T22:51:26.555Z"
    }
   },
   "outputs": [],
   "source": [
    "df_features_new.columns"
   ]
  },
  {
   "cell_type": "code",
   "execution_count": null,
   "id": "8093f835",
   "metadata": {
    "ExecuteTime": {
     "end_time": "2021-12-16T22:51:42.491714Z",
     "start_time": "2021-12-16T22:51:26.559Z"
    }
   },
   "outputs": [],
   "source": [
    "# Check\n",
    "df_features_new.head()"
   ]
  },
  {
   "cell_type": "markdown",
   "id": "d777a480",
   "metadata": {},
   "source": [
    "### MIxed Data Types"
   ]
  },
  {
   "cell_type": "code",
   "execution_count": null,
   "id": "8470e27d",
   "metadata": {
    "ExecuteTime": {
     "end_time": "2021-12-16T22:51:42.493713Z",
     "start_time": "2021-12-16T22:51:26.562Z"
    },
    "scrolled": true
   },
   "outputs": [],
   "source": [
    "# Basic info about dataframe & data types\n",
    "df_features_new.info() # No need to change data types"
   ]
  },
  {
   "cell_type": "code",
   "execution_count": null,
   "id": "fc8798ce",
   "metadata": {
    "ExecuteTime": {
     "end_time": "2021-12-16T22:51:42.496715Z",
     "start_time": "2021-12-16T22:51:26.565Z"
    }
   },
   "outputs": [],
   "source": [
    "# Search for mixed data types\n",
    "for col in df_features_new.columns.tolist():\n",
    "      weird = (df_features_new[[col]].applymap(type) != df_features_new[[col]].iloc[0].apply(type)).any(axis = 1)\n",
    "      if len (df_features_new[weird]) > 0:\n",
    "        print (col)  \n",
    "\n",
    "# No mixed data types"
   ]
  },
  {
   "cell_type": "markdown",
   "id": "9711e8ed",
   "metadata": {},
   "source": [
    "### Dropping & Renaming Columns"
   ]
  },
  {
   "cell_type": "code",
   "execution_count": null,
   "id": "c1d9f59a",
   "metadata": {
    "ExecuteTime": {
     "end_time": "2021-12-16T22:51:42.499716Z",
     "start_time": "2021-12-16T22:51:26.568Z"
    }
   },
   "outputs": [],
   "source": [
    "# Remove column from dataset\n",
    "df_features_new = df_features_new.drop(columns = [\"id\",\"album_id\", \"artist_ids\", \"track_number\", \"disc_number\", \"key\", \"time_signature\"])"
   ]
  },
  {
   "cell_type": "code",
   "execution_count": null,
   "id": "b19415dc",
   "metadata": {
    "ExecuteTime": {
     "end_time": "2021-12-16T22:51:42.501717Z",
     "start_time": "2021-12-16T22:51:26.571Z"
    },
    "scrolled": false
   },
   "outputs": [],
   "source": [
    "# Rename columns\n",
    "df_features_new.rename(columns = {\"name\" : \"track_name\", \"artists\":\"artist\", \"year\" : \"release_year\"}, inplace = True)"
   ]
  },
  {
   "cell_type": "code",
   "execution_count": null,
   "id": "a17c750e",
   "metadata": {
    "ExecuteTime": {
     "end_time": "2021-12-16T22:51:42.503717Z",
     "start_time": "2021-12-16T22:51:26.574Z"
    },
    "scrolled": true
   },
   "outputs": [],
   "source": [
    "# Check\n",
    "df_features_new.head(1)"
   ]
  },
  {
   "cell_type": "markdown",
   "id": "6d7fa540",
   "metadata": {},
   "source": [
    "### Values Counts & Renaming Values"
   ]
  },
  {
   "cell_type": "code",
   "execution_count": null,
   "id": "8f97f7cd",
   "metadata": {
    "ExecuteTime": {
     "end_time": "2021-12-16T22:51:42.505719Z",
     "start_time": "2021-12-16T22:51:26.577Z"
    }
   },
   "outputs": [],
   "source": [
    "# Remove brackets in values of column \"artist\"\n",
    "df_features_new[\"artist\"] = df_features_new[\"artist\"].str.strip(\"[]\")\n",
    "df_features_new[\"artist\"] = df_features_new[\"artist\"].str.strip(\"''\")"
   ]
  },
  {
   "cell_type": "code",
   "execution_count": null,
   "id": "0972c144",
   "metadata": {
    "ExecuteTime": {
     "end_time": "2021-12-16T22:51:42.506717Z",
     "start_time": "2021-12-16T22:51:26.581Z"
    },
    "scrolled": true
   },
   "outputs": [],
   "source": [
    "# Check\n",
    "df_features_new.head()"
   ]
  },
  {
   "cell_type": "code",
   "execution_count": null,
   "id": "ee3fee1f",
   "metadata": {
    "ExecuteTime": {
     "end_time": "2021-12-16T22:51:42.509719Z",
     "start_time": "2021-12-16T22:51:26.584Z"
    }
   },
   "outputs": [],
   "source": [
    "# Show all rows\n",
    "pd.options.display.max_rows = None"
   ]
  },
  {
   "cell_type": "code",
   "execution_count": null,
   "id": "05c13f3b",
   "metadata": {
    "ExecuteTime": {
     "end_time": "2021-12-16T22:51:42.510715Z",
     "start_time": "2021-12-16T22:51:26.588Z"
    },
    "scrolled": true
   },
   "outputs": [],
   "source": [
    "# Table of counts\n",
    "df_features_new[\"release_year\"].value_counts(dropna = False)"
   ]
  },
  {
   "cell_type": "markdown",
   "id": "3ac7d132",
   "metadata": {},
   "source": [
    "### Missing Values"
   ]
  },
  {
   "cell_type": "code",
   "execution_count": null,
   "id": "6d035657",
   "metadata": {
    "ExecuteTime": {
     "end_time": "2021-12-16T22:51:42.512717Z",
     "start_time": "2021-12-16T22:51:26.591Z"
    }
   },
   "outputs": [],
   "source": [
    "# Find the sum of missing values\n",
    "df_features_new.isnull().sum() # All good"
   ]
  },
  {
   "cell_type": "markdown",
   "id": "400d6cba",
   "metadata": {},
   "source": [
    "### Duplicates"
   ]
  },
  {
   "cell_type": "code",
   "execution_count": null,
   "id": "6e2a3e65",
   "metadata": {
    "ExecuteTime": {
     "end_time": "2021-12-16T22:51:42.514718Z",
     "start_time": "2021-12-16T22:51:26.594Z"
    }
   },
   "outputs": [],
   "source": [
    "# Find duplicates\n",
    "df_features_dup = df_features_new[df_features_new.duplicated()]"
   ]
  },
  {
   "cell_type": "code",
   "execution_count": null,
   "id": "2a787b4c",
   "metadata": {
    "ExecuteTime": {
     "end_time": "2021-12-16T22:51:42.516715Z",
     "start_time": "2021-12-16T22:51:26.616Z"
    }
   },
   "outputs": [],
   "source": [
    "# Check\n",
    "# No duplicates found\n",
    "df_features_dup"
   ]
  },
  {
   "cell_type": "markdown",
   "id": "2b090d1f",
   "metadata": {},
   "source": [
    "# Merge Dataframes"
   ]
  },
  {
   "cell_type": "code",
   "execution_count": null,
   "id": "8c324040",
   "metadata": {
    "ExecuteTime": {
     "end_time": "2021-12-16T22:51:42.518716Z",
     "start_time": "2021-12-16T22:51:26.619Z"
    }
   },
   "outputs": [],
   "source": [
    "# Merge dataframes, inner join (default)\n",
    "df_tracks_features = df_tracks_new.merge(df_features_new, on = [\"track_name\", \"artist\"],  indicator = True)"
   ]
  },
  {
   "cell_type": "code",
   "execution_count": null,
   "id": "ca2f7708",
   "metadata": {
    "ExecuteTime": {
     "end_time": "2021-12-16T22:51:42.520717Z",
     "start_time": "2021-12-16T22:51:26.622Z"
    }
   },
   "outputs": [],
   "source": [
    "# Check\n",
    "df_tracks_features.shape"
   ]
  },
  {
   "cell_type": "code",
   "execution_count": null,
   "id": "1c5cda0e",
   "metadata": {
    "ExecuteTime": {
     "end_time": "2021-12-16T22:51:42.523718Z",
     "start_time": "2021-12-16T22:51:26.626Z"
    }
   },
   "outputs": [],
   "source": [
    "# Check\n",
    "df_tracks_features.head()"
   ]
  },
  {
   "cell_type": "code",
   "execution_count": null,
   "id": "d74c714d",
   "metadata": {
    "ExecuteTime": {
     "end_time": "2021-12-16T22:51:42.525719Z",
     "start_time": "2021-12-16T22:51:26.629Z"
    },
    "scrolled": true
   },
   "outputs": [],
   "source": [
    "# Show columns\n",
    "df_tracks_features.columns"
   ]
  },
  {
   "cell_type": "code",
   "execution_count": null,
   "id": "819744ae",
   "metadata": {
    "ExecuteTime": {
     "end_time": "2021-12-16T22:51:42.527719Z",
     "start_time": "2021-12-16T22:51:26.637Z"
    }
   },
   "outputs": [],
   "source": [
    "# Check\n",
    "df_tracks_features.describe()"
   ]
  },
  {
   "cell_type": "code",
   "execution_count": null,
   "id": "0c360ddb",
   "metadata": {
    "ExecuteTime": {
     "end_time": "2021-12-16T22:51:42.529718Z",
     "start_time": "2021-12-16T22:51:26.639Z"
    }
   },
   "outputs": [],
   "source": [
    "# Table of counts\n",
    "df_tracks_features[\"position\"].value_counts(dropna = False)"
   ]
  },
  {
   "cell_type": "markdown",
   "id": "90b54497",
   "metadata": {},
   "source": [
    "# Export Data"
   ]
  },
  {
   "cell_type": "code",
   "execution_count": null,
   "id": "0170e7de",
   "metadata": {
    "ExecuteTime": {
     "end_time": "2021-12-16T22:51:42.531718Z",
     "start_time": "2021-12-16T22:51:26.643Z"
    }
   },
   "outputs": [],
   "source": [
    "# Export data using path variable\n",
    "df_tracks_features.to_csv(os.path.join(path, \"02 Data\", \"Prepared Data\", \"df_tracks_features.csv\"))"
   ]
  },
  {
   "cell_type": "code",
   "execution_count": null,
   "id": "4e9673f6",
   "metadata": {},
   "outputs": [],
   "source": []
  }
 ],
 "metadata": {
  "kernelspec": {
   "display_name": "Python 3",
   "language": "python",
   "name": "python3"
  },
  "language_info": {
   "codemirror_mode": {
    "name": "ipython",
    "version": 3
   },
   "file_extension": ".py",
   "mimetype": "text/x-python",
   "name": "python",
   "nbconvert_exporter": "python",
   "pygments_lexer": "ipython3",
   "version": "3.8.8"
  },
  "toc": {
   "base_numbering": 1,
   "nav_menu": {},
   "number_sections": true,
   "sideBar": true,
   "skip_h1_title": false,
   "title_cell": "Table of Contents",
   "title_sidebar": "Contents",
   "toc_cell": false,
   "toc_position": {
    "height": "calc(100% - 180px)",
    "left": "10px",
    "top": "150px",
    "width": "422.743px"
   },
   "toc_section_display": true,
   "toc_window_display": true
  }
 },
 "nbformat": 4,
 "nbformat_minor": 5
}
